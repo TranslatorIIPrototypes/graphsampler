{
 "cells": [
  {
   "cell_type": "code",
   "execution_count": 86,
   "metadata": {},
   "outputs": [],
   "source": [
    "import pandas as pd\n",
    "import matplotlib.pyplot as plt"
   ]
  },
  {
   "cell_type": "code",
   "execution_count": 87,
   "metadata": {},
   "outputs": [],
   "source": [
    "df = pd.read_csv('gene_disease/pareto.txt',sep=\"\\t\")"
   ]
  },
  {
   "cell_type": "code",
   "execution_count": 4,
   "metadata": {},
   "outputs": [
    {
     "data": {
      "image/png": "[encoded data removed]",
      "text/plain": [
       "<Figure size 432x288 with 1 Axes>"
      ]
     },
     "metadata": {
      "needs_background": "light"
     },
     "output_type": "display_data"
    }
   ],
   "source": [
    "plt.plot(df['n_connected'],-df['n_unconnected'],'bo')\n",
    "plt.xlabel('N+',fontsize=20)\n",
    "plt.ylabel('N-',fontsize=20)\n",
    "plt.show()"
   ]
  },
  {
   "cell_type": "code",
   "execution_count": 88,
   "metadata": {},
   "outputs": [],
   "source": [
    "dfs = df[ df.n_unconnected > -40000] \n",
    "dfp_1 = dfs[ dfs.Pareto == 1 ]\n",
    "dfp_2 = dfs[ dfs.Pareto == 2 ]\n",
    "dfp_3 = dfs[ dfs.Pareto == 3 ]\n",
    "dfp_4 = dfs[ dfs.Pareto == 4 ]\n",
    "dfp_5 = dfs[ dfs.Pareto == 5 ]"
   ]
  },
  {
   "cell_type": "code",
   "execution_count": 92,
   "metadata": {},
   "outputs": [
    {
     "data": {
      "image/png": "[encoded data removed]",
      "text/plain": [
       "<Figure size 432x288 with 1 Axes>"
      ]
     },
     "metadata": {
      "needs_background": "light"
     },
     "output_type": "display_data"
    }
   ],
   "source": [
    "plt.plot(dfs['n_connected'],-dfs['n_unconnected'],'b.')\n",
    "plt.xlabel('N+',fontsize=20)\n",
    "plt.ylabel('N-',fontsize=20)\n",
    "plt.plot(dfp_5['n_connected'], -dfp_5['n_unconnected'], 'k.')\n",
    "plt.plot(dfp_4['n_connected'], -dfp_4['n_unconnected'], 'g.')\n",
    "plt.plot(dfp_3['n_connected'], -dfp_3['n_unconnected'], 'y.')\n",
    "plt.plot(dfp_2['n_connected'], -dfp_2['n_unconnected'], 'c.')\n",
    "plt.plot(dfp_1['n_connected'], -dfp_1['n_unconnected'], 'r.')\n",
    "plt.show()"
   ]
  },
  {
   "cell_type": "code",
   "execution_count": 96,
   "metadata": {},
   "outputs": [
    {
     "data": {
      "text/html": [
       "<div>\n",
       "<style scoped>\n",
       "    .dataframe tbody tr th:only-of-type {\n",
       "        vertical-align: middle;\n",
       "    }\n",
       "\n",
       "    .dataframe tbody tr th {\n",
       "        vertical-align: top;\n",
       "    }\n",
       "\n",
       "    .dataframe thead th {\n",
       "        text-align: right;\n",
       "    }\n",
       "</style>\n",
       "<table border=\"1\" class=\"dataframe\">\n",
       "  <thead>\n",
       "    <tr style=\"text-align: right;\">\n",
       "      <th></th>\n",
       "      <th>surface</th>\n",
       "      <th>n_connected</th>\n",
       "      <th>n_unconnected</th>\n",
       "      <th>graph</th>\n",
       "    </tr>\n",
       "  </thead>\n",
       "  <tbody>\n",
       "    <tr>\n",
       "      <th>0</th>\n",
       "      <td>1</td>\n",
       "      <td>82</td>\n",
       "      <td>0</td>\n",
       "      <td>{\"nodes\": [{\"id\": \"input_gene\", \"type\": \"gene\"...</td>\n",
       "    </tr>\n",
       "    <tr>\n",
       "      <th>1</th>\n",
       "      <td>1</td>\n",
       "      <td>114</td>\n",
       "      <td>1</td>\n",
       "      <td>{\"nodes\": [{\"id\": \"input_gene\", \"type\": \"gene\"...</td>\n",
       "    </tr>\n",
       "    <tr>\n",
       "      <th>2</th>\n",
       "      <td>1</td>\n",
       "      <td>115</td>\n",
       "      <td>4</td>\n",
       "      <td>{\"nodes\": [{\"id\": \"input_gene\", \"type\": \"gene\"...</td>\n",
       "    </tr>\n",
       "    <tr>\n",
       "      <th>3</th>\n",
       "      <td>1</td>\n",
       "      <td>134</td>\n",
       "      <td>5</td>\n",
       "      <td>{\"nodes\": [{\"id\": \"input_gene\", \"type\": \"gene\"...</td>\n",
       "    </tr>\n",
       "    <tr>\n",
       "      <th>4</th>\n",
       "      <td>1</td>\n",
       "      <td>139</td>\n",
       "      <td>7</td>\n",
       "      <td>{\"nodes\": [{\"id\": \"n0\", \"type\": \"disease\"}, {\"...</td>\n",
       "    </tr>\n",
       "  </tbody>\n",
       "</table>\n",
       "</div>"
      ],
      "text/plain": [
       "   surface  n_connected  n_unconnected  \\\n",
       "0        1           82              0   \n",
       "1        1          114              1   \n",
       "2        1          115              4   \n",
       "3        1          134              5   \n",
       "4        1          139              7   \n",
       "\n",
       "                                               graph  \n",
       "0  {\"nodes\": [{\"id\": \"input_gene\", \"type\": \"gene\"...  \n",
       "1  {\"nodes\": [{\"id\": \"input_gene\", \"type\": \"gene\"...  \n",
       "2  {\"nodes\": [{\"id\": \"input_gene\", \"type\": \"gene\"...  \n",
       "3  {\"nodes\": [{\"id\": \"input_gene\", \"type\": \"gene\"...  \n",
       "4  {\"nodes\": [{\"id\": \"n0\", \"type\": \"disease\"}, {\"...  "
      ]
     },
     "execution_count": 96,
     "metadata": {},
     "output_type": "execute_result"
    }
   ],
   "source": [
    "df = pd.read_csv('gene_disease/paretographs',sep=\"\\t\")\n",
    "df.head()"
   ]
  },
  {
   "cell_type": "code",
   "execution_count": 84,
   "metadata": {},
   "outputs": [],
   "source": [
    "import json\n",
    "from gamma_viewer import GammaViewer\n",
    "from IPython.display import display"
   ]
  },
  {
   "cell_type": "code",
   "execution_count": 127,
   "metadata": {},
   "outputs": [],
   "source": [
    "def makeplot(df,i):\n",
    "    c = df.iloc[i]['n_connected']\n",
    "    u = df.iloc[i]['n_unconnected']\n",
    "    print('Surface:',df.iloc[i]['surface'])\n",
    "    print('Connected/Unconnected/Fraction:', c,u,c/(u+c) )\n",
    "    g=json.loads(df.iloc[i]['graph'])\n",
    "    view = GammaViewer(props={\"data\":{'query_graph':g, \n",
    "                                  'knowledge_graph':{'nodes':[{\"id\":\"fakey\"}],'edges':[]}, \n",
    "                                  'results':[{\"node_bindings\":[],\"edge_bindings\":[]}]\n",
    "                                 }\n",
    "                         }\n",
    "                  )\n",
    "    display(view)"
   ]
  },
  {
   "cell_type": "code",
   "execution_count": 128,
   "metadata": {},
   "outputs": [
    {
     "name": "stdout",
     "output_type": "stream",
     "text": [
      "Surface: 1\n",
      "Connected/Unconnected/Fraction: 82 0 1.0\n"
     ]
    }
   ],
   "source": [
    "makeplot(df,0)\n"
   ]
  },
  {
   "cell_type": "code",
   "execution_count": 129,
   "metadata": {},
   "outputs": [
    {
     "name": "stdout",
     "output_type": "stream",
     "text": [
      "Surface: 1\n",
      "Connected/Unconnected/Fraction: 114 1 0.991304347826087\n"
     ]
    }
   ],
   "source": [
    "makeplot(df,1)"
   ]
  },
  {
   "cell_type": "code",
   "execution_count": 130,
   "metadata": {},
   "outputs": [
    {
     "name": "stdout",
     "output_type": "stream",
     "text": [
      "Surface: 1\n",
      "Connected/Unconnected/Fraction: 115 4 0.9663865546218487\n"
     ]
    }
   ],
   "source": [
    "makeplot(df,2)"
   ]
  },
  {
   "cell_type": "code",
   "execution_count": 131,
   "metadata": {},
   "outputs": [
    {
     "name": "stdout",
     "output_type": "stream",
     "text": [
      "Surface: 1\n",
      "Connected/Unconnected/Fraction: 134 5 0.9640287769784173\n"
     ]
    }
   ],
   "source": [
    "makeplot(df,3)"
   ]
  },
  {
   "cell_type": "code",
   "execution_count": 132,
   "metadata": {},
   "outputs": [
    {
     "name": "stdout",
     "output_type": "stream",
     "text": [
      "Surface: 1\n",
      "Connected/Unconnected/Fraction: 139 7 0.952054794520548\n"
     ]
    }
   ],
   "source": [
    "makeplot(df,4)"
   ]
  },
  {
   "cell_type": "code",
   "execution_count": 133,
   "metadata": {},
   "outputs": [
    {
     "name": "stdout",
     "output_type": "stream",
     "text": [
      "Surface: 1\n",
      "Connected/Unconnected/Fraction: 156 8 0.9512195121951219\n"
     ]
    }
   ],
   "source": [
    "makeplot(df,5)"
   ]
  },
  {
   "cell_type": "code",
   "execution_count": 134,
   "metadata": {},
   "outputs": [
    {
     "name": "stdout",
     "output_type": "stream",
     "text": [
      "Surface: 1\n",
      "Connected/Unconnected/Fraction: 168 15 0.9180327868852459\n"
     ]
    }
   ],
   "source": [
    "makeplot(df,6)"
   ]
  },
  {
   "cell_type": "code",
   "execution_count": 135,
   "metadata": {},
   "outputs": [
    {
     "name": "stdout",
     "output_type": "stream",
     "text": [
      "Surface: 1\n",
      "Connected/Unconnected/Fraction: 177 18 0.9076923076923077\n"
     ]
    }
   ],
   "source": [
    "makeplot(df,7)"
   ]
  },
  {
   "cell_type": "code",
   "execution_count": 136,
   "metadata": {},
   "outputs": [
    {
     "name": "stdout",
     "output_type": "stream",
     "text": [
      "Surface: 1\n",
      "Connected/Unconnected/Fraction: 180 19 0.9045226130653267\n"
     ]
    }
   ],
   "source": [
    "makeplot(df,8)"
   ]
  },
  {
   "cell_type": "code",
   "execution_count": 137,
   "metadata": {},
   "outputs": [
    {
     "name": "stdout",
     "output_type": "stream",
     "text": [
      "Surface: 1\n",
      "Connected/Unconnected/Fraction: 183 22 0.8926829268292683\n"
     ]
    }
   ],
   "source": [
    "makeplot(df,9)"
   ]
  },
  {
   "cell_type": "code",
   "execution_count": 138,
   "metadata": {},
   "outputs": [
    {
     "name": "stdout",
     "output_type": "stream",
     "text": [
      "Surface: 1\n",
      "Connected/Unconnected/Fraction: 198 24 0.8918918918918919\n"
     ]
    }
   ],
   "source": [
    "makeplot(df,10)"
   ]
  },
  {
   "cell_type": "code",
   "execution_count": 139,
   "metadata": {},
   "outputs": [
    {
     "name": "stdout",
     "output_type": "stream",
     "text": [
      "Surface: 1\n",
      "Connected/Unconnected/Fraction: 215 25 0.8958333333333334\n"
     ]
    }
   ],
   "source": [
    "makeplot(df,11)"
   ]
  },
  {
   "cell_type": "code",
   "execution_count": 140,
   "metadata": {},
   "outputs": [
    {
     "name": "stdout",
     "output_type": "stream",
     "text": [
      "Surface: 1\n",
      "Connected/Unconnected/Fraction: 249 30 0.8924731182795699\n"
     ]
    }
   ],
   "source": [
    "makeplot(df,12)"
   ]
  },
  {
   "cell_type": "code",
   "execution_count": 141,
   "metadata": {},
   "outputs": [
    {
     "name": "stdout",
     "output_type": "stream",
     "text": [
      "Surface: 1\n",
      "Connected/Unconnected/Fraction: 259 45 0.8519736842105263\n"
     ]
    }
   ],
   "source": [
    "makeplot(df,13)"
   ]
  },
  {
   "cell_type": "code",
   "execution_count": 142,
   "metadata": {},
   "outputs": [
    {
     "name": "stdout",
     "output_type": "stream",
     "text": [
      "Surface: 1\n",
      "Connected/Unconnected/Fraction: 261 53 0.8312101910828026\n"
     ]
    }
   ],
   "source": [
    "makeplot(df,14)"
   ]
  },
  {
   "cell_type": "code",
   "execution_count": 143,
   "metadata": {},
   "outputs": [
    {
     "name": "stdout",
     "output_type": "stream",
     "text": [
      "Surface: 1\n",
      "Connected/Unconnected/Fraction: 270 54 0.8333333333333334\n"
     ]
    }
   ],
   "source": [
    "makeplot(df,15)"
   ]
  },
  {
   "cell_type": "code",
   "execution_count": 144,
   "metadata": {},
   "outputs": [
    {
     "name": "stdout",
     "output_type": "stream",
     "text": [
      "Surface: 1\n",
      "Connected/Unconnected/Fraction: 272 64 0.8095238095238095\n"
     ]
    }
   ],
   "source": [
    "makeplot(df,16)"
   ]
  },
  {
   "cell_type": "code",
   "execution_count": 145,
   "metadata": {},
   "outputs": [
    {
     "name": "stdout",
     "output_type": "stream",
     "text": [
      "Surface: 1\n",
      "Connected/Unconnected/Fraction: 273 140 0.6610169491525424\n"
     ]
    }
   ],
   "source": [
    "makeplot(df,17)"
   ]
  },
  {
   "cell_type": "code",
   "execution_count": 146,
   "metadata": {},
   "outputs": [
    {
     "name": "stdout",
     "output_type": "stream",
     "text": [
      "Surface: 1\n",
      "Connected/Unconnected/Fraction: 299 155 0.6585903083700441\n"
     ]
    }
   ],
   "source": [
    "makeplot(df,18)"
   ]
  },
  {
   "cell_type": "code",
   "execution_count": 147,
   "metadata": {},
   "outputs": [
    {
     "name": "stdout",
     "output_type": "stream",
     "text": [
      "Surface: 1\n",
      "Connected/Unconnected/Fraction: 303 194 0.6096579476861167\n"
     ]
    }
   ],
   "source": [
    "makeplot(df,19)"
   ]
  },
  {
   "cell_type": "code",
   "execution_count": 148,
   "metadata": {},
   "outputs": [
    {
     "name": "stdout",
     "output_type": "stream",
     "text": [
      "Surface: 1\n",
      "Connected/Unconnected/Fraction: 320 202 0.6130268199233716\n"
     ]
    }
   ],
   "source": [
    "makeplot(df,20)"
   ]
  },
  {
   "cell_type": "code",
   "execution_count": 149,
   "metadata": {},
   "outputs": [
    {
     "name": "stdout",
     "output_type": "stream",
     "text": [
      "Surface: 1\n",
      "Connected/Unconnected/Fraction: 322 221 0.5930018416206262\n"
     ]
    }
   ],
   "source": [
    "makeplot(df,21)"
   ]
  },
  {
   "cell_type": "code",
   "execution_count": 150,
   "metadata": {},
   "outputs": [
    {
     "name": "stdout",
     "output_type": "stream",
     "text": [
      "Surface: 1\n",
      "Connected/Unconnected/Fraction: 350 321 0.5216095380029806\n"
     ]
    }
   ],
   "source": [
    "makeplot(df,22)"
   ]
  },
  {
   "cell_type": "code",
   "execution_count": 151,
   "metadata": {},
   "outputs": [
    {
     "name": "stdout",
     "output_type": "stream",
     "text": [
      "Surface: 1\n",
      "Connected/Unconnected/Fraction: 402 561 0.4174454828660436\n"
     ]
    }
   ],
   "source": [
    "makeplot(df,23)"
   ]
  },
  {
   "cell_type": "code",
   "execution_count": 152,
   "metadata": {},
   "outputs": [
    {
     "name": "stdout",
     "output_type": "stream",
     "text": [
      "Surface: 1\n",
      "Connected/Unconnected/Fraction: 452 622 0.4208566108007449\n"
     ]
    }
   ],
   "source": [
    "makeplot(df,24)"
   ]
  },
  {
   "cell_type": "code",
   "execution_count": 153,
   "metadata": {},
   "outputs": [
    {
     "name": "stdout",
     "output_type": "stream",
     "text": [
      "Surface: 1\n",
      "Connected/Unconnected/Fraction: 495 984 0.33468559837728196\n"
     ]
    }
   ],
   "source": [
    "makeplot(df,25)"
   ]
  },
  {
   "cell_type": "code",
   "execution_count": 154,
   "metadata": {},
   "outputs": [
    {
     "name": "stdout",
     "output_type": "stream",
     "text": [
      "Surface: 1\n",
      "Connected/Unconnected/Fraction: 499 1517 0.24751984126984128\n"
     ]
    }
   ],
   "source": [
    "makeplot(df,26)"
   ]
  },
  {
   "cell_type": "code",
   "execution_count": 155,
   "metadata": {},
   "outputs": [
    {
     "name": "stdout",
     "output_type": "stream",
     "text": [
      "Surface: 1\n",
      "Connected/Unconnected/Fraction: 513 1545 0.24927113702623907\n"
     ]
    }
   ],
   "source": [
    "makeplot(df,27)"
   ]
  },
  {
   "cell_type": "code",
   "execution_count": 156,
   "metadata": {},
   "outputs": [
    {
     "name": "stdout",
     "output_type": "stream",
     "text": [
      "Surface: 1\n",
      "Connected/Unconnected/Fraction: 514 1652 0.23730378578024008\n"
     ]
    }
   ],
   "source": [
    "makeplot(df,28)"
   ]
  },
  {
   "cell_type": "code",
   "execution_count": 157,
   "metadata": {},
   "outputs": [
    {
     "name": "stdout",
     "output_type": "stream",
     "text": [
      "Surface: 1\n",
      "Connected/Unconnected/Fraction: 556 2302 0.19454163750874737\n"
     ]
    }
   ],
   "source": [
    "makeplot(df,29)"
   ]
  },
  {
   "cell_type": "code",
   "execution_count": 158,
   "metadata": {},
   "outputs": [
    {
     "name": "stdout",
     "output_type": "stream",
     "text": [
      "Surface: 1\n",
      "Connected/Unconnected/Fraction: 568 2391 0.19195674214261574\n"
     ]
    }
   ],
   "source": [
    "makeplot(df,30)"
   ]
  },
  {
   "cell_type": "code",
   "execution_count": 159,
   "metadata": {},
   "outputs": [
    {
     "name": "stdout",
     "output_type": "stream",
     "text": [
      "Surface: 1\n",
      "Connected/Unconnected/Fraction: 575 2651 0.1782393056416615\n"
     ]
    }
   ],
   "source": [
    "makeplot(df,31)"
   ]
  },
  {
   "cell_type": "code",
   "execution_count": 160,
   "metadata": {},
   "outputs": [
    {
     "name": "stdout",
     "output_type": "stream",
     "text": [
      "Surface: 2\n",
      "Connected/Unconnected/Fraction: 77 0 1.0\n"
     ]
    }
   ],
   "source": [
    "makeplot(df,32)"
   ]
  },
  {
   "cell_type": "code",
   "execution_count": 161,
   "metadata": {},
   "outputs": [
    {
     "name": "stdout",
     "output_type": "stream",
     "text": [
      "Surface: 2\n",
      "Connected/Unconnected/Fraction: 112 1 0.9911504424778761\n"
     ]
    }
   ],
   "source": [
    "makeplot(df,33)"
   ]
  },
  {
   "cell_type": "code",
   "execution_count": 162,
   "metadata": {},
   "outputs": [
    {
     "name": "stdout",
     "output_type": "stream",
     "text": [
      "Surface: 2\n",
      "Connected/Unconnected/Fraction: 118 5 0.959349593495935\n"
     ]
    }
   ],
   "source": [
    "makeplot(df,34)"
   ]
  },
  {
   "cell_type": "code",
   "execution_count": 163,
   "metadata": {},
   "outputs": [
    {
     "name": "stdout",
     "output_type": "stream",
     "text": [
      "Surface: 2\n",
      "Connected/Unconnected/Fraction: 118 5 0.959349593495935\n"
     ]
    }
   ],
   "source": [
    "makeplot(df,35)"
   ]
  },
  {
   "cell_type": "code",
   "execution_count": 164,
   "metadata": {},
   "outputs": [
    {
     "name": "stdout",
     "output_type": "stream",
     "text": [
      "Surface: 2\n",
      "Connected/Unconnected/Fraction: 128 6 0.9552238805970149\n"
     ]
    }
   ],
   "source": [
    "makeplot(df,36)"
   ]
  },
  {
   "cell_type": "code",
   "execution_count": 165,
   "metadata": {},
   "outputs": [
    {
     "name": "stdout",
     "output_type": "stream",
     "text": [
      "Surface: 2\n",
      "Connected/Unconnected/Fraction: 143 8 0.9470198675496688\n"
     ]
    }
   ],
   "source": [
    "makeplot(df,37)"
   ]
  },
  {
   "cell_type": "code",
   "execution_count": 166,
   "metadata": {},
   "outputs": [
    {
     "name": "stdout",
     "output_type": "stream",
     "text": [
      "Surface: 2\n",
      "Connected/Unconnected/Fraction: 154 12 0.927710843373494\n"
     ]
    }
   ],
   "source": [
    "makeplot(df,38)"
   ]
  },
  {
   "cell_type": "code",
   "execution_count": 167,
   "metadata": {},
   "outputs": [
    {
     "name": "stdout",
     "output_type": "stream",
     "text": [
      "Surface: 2\n",
      "Connected/Unconnected/Fraction: 165 16 0.9116022099447514\n"
     ]
    }
   ],
   "source": [
    "makeplot(df,39)"
   ]
  },
  {
   "cell_type": "code",
   "execution_count": 168,
   "metadata": {},
   "outputs": [
    {
     "name": "stdout",
     "output_type": "stream",
     "text": [
      "Surface: 2\n",
      "Connected/Unconnected/Fraction: 170 20 0.8947368421052632\n"
     ]
    }
   ],
   "source": [
    "makeplot(df,40)"
   ]
  },
  {
   "cell_type": "code",
   "execution_count": 116,
   "metadata": {},
   "outputs": [
    {
     "name": "stdout",
     "output_type": "stream",
     "text": [
      "Surface: 2\n",
      "Num Connected: 171\n",
      "Num Unconnected: 21\n"
     ]
    }
   ],
   "source": [
    "makeplot(df,41)"
   ]
  },
  {
   "cell_type": "code",
   "execution_count": 169,
   "metadata": {},
   "outputs": [
    {
     "name": "stdout",
     "output_type": "stream",
     "text": [
      "Surface: 2\n",
      "Connected/Unconnected/Fraction: 174 22 0.8877551020408163\n"
     ]
    }
   ],
   "source": [
    "makeplot(df,42)"
   ]
  },
  {
   "cell_type": "code",
   "execution_count": 170,
   "metadata": {},
   "outputs": [
    {
     "name": "stdout",
     "output_type": "stream",
     "text": [
      "Surface: 2\n",
      "Connected/Unconnected/Fraction: 185 24 0.8851674641148325\n"
     ]
    }
   ],
   "source": [
    "makeplot(df,43)"
   ]
  },
  {
   "cell_type": "code",
   "execution_count": 171,
   "metadata": {},
   "outputs": [
    {
     "name": "stdout",
     "output_type": "stream",
     "text": [
      "Surface: 2\n",
      "Connected/Unconnected/Fraction: 188 25 0.8826291079812206\n"
     ]
    }
   ],
   "source": [
    "makeplot(df,44)"
   ]
  },
  {
   "cell_type": "code",
   "execution_count": 172,
   "metadata": {},
   "outputs": [
    {
     "name": "stdout",
     "output_type": "stream",
     "text": [
      "Surface: 2\n",
      "Connected/Unconnected/Fraction: 258 54 0.8269230769230769\n"
     ]
    }
   ],
   "source": [
    "makeplot(df,50)"
   ]
  },
  {
   "cell_type": "code",
   "execution_count": 173,
   "metadata": {},
   "outputs": [
    {
     "name": "stdout",
     "output_type": "stream",
     "text": [
      "Surface: 2\n",
      "Connected/Unconnected/Fraction: 449 734 0.3795435333896872\n"
     ]
    }
   ],
   "source": [
    "makeplot(df,55)"
   ]
  },
  {
   "cell_type": "code",
   "execution_count": 177,
   "metadata": {},
   "outputs": [
    {
     "name": "stdout",
     "output_type": "stream",
     "text": [
      "Surface: 3\n",
      "Connected/Unconnected/Fraction: 76 0 1.0\n"
     ]
    }
   ],
   "source": [
    "makeplot(df,59)"
   ]
  },
  {
   "cell_type": "code",
   "execution_count": 178,
   "metadata": {},
   "outputs": [
    {
     "name": "stdout",
     "output_type": "stream",
     "text": [
      "Surface: 3\n",
      "Connected/Unconnected/Fraction: 86 1 0.9885057471264368\n"
     ]
    }
   ],
   "source": [
    "makeplot(df,60)"
   ]
  },
  {
   "cell_type": "code",
   "execution_count": 179,
   "metadata": {},
   "outputs": [
    {
     "name": "stdout",
     "output_type": "stream",
     "text": [
      "Surface: 3\n",
      "Connected/Unconnected/Fraction: 98 2 0.98\n"
     ]
    }
   ],
   "source": [
    "makeplot(df,61)"
   ]
  },
  {
   "cell_type": "code",
   "execution_count": 180,
   "metadata": {},
   "outputs": [
    {
     "name": "stdout",
     "output_type": "stream",
     "text": [
      "Surface: 3\n",
      "Connected/Unconnected/Fraction: 109 3 0.9732142857142857\n"
     ]
    }
   ],
   "source": [
    "makeplot(df,62)"
   ]
  },
  {
   "cell_type": "code",
   "execution_count": 181,
   "metadata": {},
   "outputs": [
    {
     "name": "stdout",
     "output_type": "stream",
     "text": [
      "Surface: 3\n",
      "Connected/Unconnected/Fraction: 117 5 0.9590163934426229\n"
     ]
    }
   ],
   "source": [
    "makeplot(df,63)"
   ]
  },
  {
   "cell_type": "code",
   "execution_count": 191,
   "metadata": {},
   "outputs": [
    {
     "name": "stdout",
     "output_type": "stream",
     "text": [
      "Surface: 4\n",
      "Connected/Unconnected/Fraction: 73 0 1.0\n"
     ]
    }
   ],
   "source": [
    "makeplot(df,91)"
   ]
  },
  {
   "cell_type": "code",
   "execution_count": 198,
   "metadata": {},
   "outputs": [
    {
     "name": "stdout",
     "output_type": "stream",
     "text": [
      "Surface: 5\n",
      "Connected/Unconnected/Fraction: 72 0 1.0\n"
     ]
    }
   ],
   "source": [
    "makeplot(df,138)"
   ]
  },
  {
   "cell_type": "code",
   "execution_count": null,
   "metadata": {},
   "outputs": [],
   "source": []
  }
 ],
 "metadata": {
  "kernelspec": {
   "display_name": "Python 3",
   "language": "python",
   "name": "python3"
  },
  "language_info": {
   "codemirror_mode": {
    "name": "ipython",
    "version": 3
   },
   "file_extension": ".py",
   "mimetype": "text/x-python",
   "name": "python",
   "nbconvert_exporter": "python",
   "pygments_lexer": "ipython3",
   "version": "3.8.5"
  }
 },
 "nbformat": 4,
 "nbformat_minor": 4
}
