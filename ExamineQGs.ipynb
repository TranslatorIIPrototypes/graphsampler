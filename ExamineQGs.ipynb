{
 "cells": [
  {
   "cell_type": "code",
   "execution_count": 274,
   "metadata": {},
   "outputs": [],
   "source": [
    "import pandas as pd\n",
    "import matplotlib.pyplot as plt"
   ]
  },
  {
   "cell_type": "code",
   "execution_count": 275,
   "metadata": {},
   "outputs": [],
   "source": [
    "df = pd.read_csv('gene_disease/pareto.txt',sep=\"\\t\")"
   ]
  },
  {
   "cell_type": "code",
   "execution_count": 276,
   "metadata": {},
   "outputs": [
    {
     "data": {
      "text/html": [
       "<div>\n",
       "<style scoped>\n",
       "    .dataframe tbody tr th:only-of-type {\n",
       "        vertical-align: middle;\n",
       "    }\n",
       "\n",
       "    .dataframe tbody tr th {\n",
       "        vertical-align: top;\n",
       "    }\n",
       "\n",
       "    .dataframe thead th {\n",
       "        text-align: right;\n",
       "    }\n",
       "</style>\n",
       "<table border=\"1\" class=\"dataframe\">\n",
       "  <thead>\n",
       "    <tr style=\"text-align: right;\">\n",
       "      <th></th>\n",
       "      <th>n_connected</th>\n",
       "      <th>n_unconnected</th>\n",
       "      <th>num_nodes</th>\n",
       "      <th>num_edges</th>\n",
       "      <th>graphs</th>\n",
       "      <th>Pareto</th>\n",
       "    </tr>\n",
       "  </thead>\n",
       "  <tbody>\n",
       "    <tr>\n",
       "      <th>0</th>\n",
       "      <td>1</td>\n",
       "      <td>-2</td>\n",
       "      <td>4</td>\n",
       "      <td>5</td>\n",
       "      <td>['c1347f2edb2188389b573acf88d601c6', '6e6481d6...</td>\n",
       "      <td>0</td>\n",
       "    </tr>\n",
       "    <tr>\n",
       "      <th>1</th>\n",
       "      <td>1</td>\n",
       "      <td>-2</td>\n",
       "      <td>4</td>\n",
       "      <td>4</td>\n",
       "      <td>['6629d8fae7d30443d4cc126d9cbc1cc7', '6287b657...</td>\n",
       "      <td>0</td>\n",
       "    </tr>\n",
       "    <tr>\n",
       "      <th>2</th>\n",
       "      <td>1</td>\n",
       "      <td>-2</td>\n",
       "      <td>5</td>\n",
       "      <td>7</td>\n",
       "      <td>['9da320be84c85f80083856a4071f48df', '29a02729...</td>\n",
       "      <td>0</td>\n",
       "    </tr>\n",
       "    <tr>\n",
       "      <th>3</th>\n",
       "      <td>1</td>\n",
       "      <td>-2</td>\n",
       "      <td>5</td>\n",
       "      <td>5</td>\n",
       "      <td>['bc3fb090ab919211f99b38461beca3f8', '29f3ada0...</td>\n",
       "      <td>0</td>\n",
       "    </tr>\n",
       "    <tr>\n",
       "      <th>4</th>\n",
       "      <td>1</td>\n",
       "      <td>-2</td>\n",
       "      <td>5</td>\n",
       "      <td>6</td>\n",
       "      <td>['83549ec5103015ba37e26bf449f2ef76', '9382bbff...</td>\n",
       "      <td>0</td>\n",
       "    </tr>\n",
       "  </tbody>\n",
       "</table>\n",
       "</div>"
      ],
      "text/plain": [
       "   n_connected  n_unconnected  num_nodes  num_edges  \\\n",
       "0            1             -2          4          5   \n",
       "1            1             -2          4          4   \n",
       "2            1             -2          5          7   \n",
       "3            1             -2          5          5   \n",
       "4            1             -2          5          6   \n",
       "\n",
       "                                              graphs  Pareto  \n",
       "0  ['c1347f2edb2188389b573acf88d601c6', '6e6481d6...       0  \n",
       "1  ['6629d8fae7d30443d4cc126d9cbc1cc7', '6287b657...       0  \n",
       "2  ['9da320be84c85f80083856a4071f48df', '29a02729...       0  \n",
       "3  ['bc3fb090ab919211f99b38461beca3f8', '29f3ada0...       0  \n",
       "4  ['83549ec5103015ba37e26bf449f2ef76', '9382bbff...       0  "
      ]
     },
     "execution_count": 276,
     "metadata": {},
     "output_type": "execute_result"
    }
   ],
   "source": [
    "dfs.head()"
   ]
  },
  {
   "cell_type": "code",
   "execution_count": 277,
   "metadata": {},
   "outputs": [
    {
     "data": {
      "image/png": "[encoded data removed]",
      "text/plain": [
       "<Figure size 432x288 with 1 Axes>"
      ]
     },
     "metadata": {
      "needs_background": "light"
     },
     "output_type": "display_data"
    }
   ],
   "source": [
    "plt.plot(df['n_connected'],-df['n_unconnected'],'bo')\n",
    "plt.xlabel('N+',fontsize=20)\n",
    "plt.ylabel('N-',fontsize=20)\n",
    "plt.show()"
   ]
  },
  {
   "cell_type": "code",
   "execution_count": 278,
   "metadata": {},
   "outputs": [],
   "source": [
    "dfs = df[ df.n_unconnected > -15000] \n",
    "dfp_1 = dfs[ dfs.Pareto == 1 ]\n",
    "dfp_2 = dfs[ dfs.Pareto == 2 ]\n",
    "dfp_3 = dfs[ dfs.Pareto == 3 ]\n",
    "dfp_4 = dfs[ dfs.Pareto == 4 ]\n",
    "dfp_5 = dfs[ dfs.Pareto == 5 ]"
   ]
  },
  {
   "cell_type": "code",
   "execution_count": 279,
   "metadata": {},
   "outputs": [
    {
     "data": {
      "image/png": "[encoded data removed]",
      "text/plain": [
       "<Figure size 432x288 with 1 Axes>"
      ]
     },
     "metadata": {
      "needs_background": "light"
     },
     "output_type": "display_data"
    }
   ],
   "source": [
    "plt.plot(dfs['n_connected'],-dfs['n_unconnected'],'b.')\n",
    "plt.xlabel('N+',fontsize=20)\n",
    "plt.ylabel('N-',fontsize=20)\n",
    "plt.plot(dfp_5['n_connected'], -dfp_5['n_unconnected'], 'k.')\n",
    "plt.plot(dfp_4['n_connected'], -dfp_4['n_unconnected'], 'g.')\n",
    "plt.plot(dfp_3['n_connected'], -dfp_3['n_unconnected'], 'y.')\n",
    "plt.plot(dfp_2['n_connected'], -dfp_2['n_unconnected'], 'c.')\n",
    "plt.plot(dfp_1['n_connected'], -dfp_1['n_unconnected'], 'r.')\n",
    "plt.show()"
   ]
  },
  {
   "cell_type": "code",
   "execution_count": 361,
   "metadata": {},
   "outputs": [
    {
     "data": {
      "image/png": "[encoded data removed]",
      "text/plain": [
       "<Figure size 432x288 with 1 Axes>"
      ]
     },
     "metadata": {
      "needs_background": "light"
     },
     "output_type": "display_data"
    }
   ],
   "source": [
    "plt.plot(dfs[dfs.num_nodes==5]['n_connected'],-dfs[dfs.num_nodes==5]['n_unconnected'],'b.',label='3')\n",
    "plt.plot(dfs[dfs.num_nodes==4]['n_connected'],-dfs[dfs.num_nodes==4]['n_unconnected'],'g.',label='2')\n",
    "plt.plot(dfs[dfs.num_nodes==3]['n_connected'],-dfs[dfs.num_nodes==3]['n_unconnected'],'r.',label='1')\n",
    "plt.xlabel('N+',fontsize=20)\n",
    "plt.ylabel('N-',fontsize=20)\n",
    "plt.legend()\n",
    "plt.show()"
   ]
  },
  {
   "cell_type": "code",
   "execution_count": 281,
   "metadata": {},
   "outputs": [
    {
     "data": {
      "text/html": [
       "<div>\n",
       "<style scoped>\n",
       "    .dataframe tbody tr th:only-of-type {\n",
       "        vertical-align: middle;\n",
       "    }\n",
       "\n",
       "    .dataframe tbody tr th {\n",
       "        vertical-align: top;\n",
       "    }\n",
       "\n",
       "    .dataframe thead th {\n",
       "        text-align: right;\n",
       "    }\n",
       "</style>\n",
       "<table border=\"1\" class=\"dataframe\">\n",
       "  <thead>\n",
       "    <tr style=\"text-align: right;\">\n",
       "      <th></th>\n",
       "      <th>surface</th>\n",
       "      <th>n_connected</th>\n",
       "      <th>n_unconnected</th>\n",
       "      <th>num_nodes</th>\n",
       "      <th>num_edges</th>\n",
       "      <th>graph</th>\n",
       "    </tr>\n",
       "  </thead>\n",
       "  <tbody>\n",
       "    <tr>\n",
       "      <th>0</th>\n",
       "      <td>1</td>\n",
       "      <td>397</td>\n",
       "      <td>0</td>\n",
       "      <td>4</td>\n",
       "      <td>4</td>\n",
       "      <td>{\"nodes\": [{\"id\": \"input_gene\", \"type\": \"gene\"...</td>\n",
       "    </tr>\n",
       "    <tr>\n",
       "      <th>1</th>\n",
       "      <td>1</td>\n",
       "      <td>432</td>\n",
       "      <td>4</td>\n",
       "      <td>3</td>\n",
       "      <td>2</td>\n",
       "      <td>{\"nodes\": [{\"id\": \"input_gene\", \"type\": \"gene\"...</td>\n",
       "    </tr>\n",
       "    <tr>\n",
       "      <th>2</th>\n",
       "      <td>1</td>\n",
       "      <td>441</td>\n",
       "      <td>24</td>\n",
       "      <td>5</td>\n",
       "      <td>5</td>\n",
       "      <td>{\"nodes\": [{\"id\": \"input_gene\", \"type\": \"gene\"...</td>\n",
       "    </tr>\n",
       "    <tr>\n",
       "      <th>3</th>\n",
       "      <td>1</td>\n",
       "      <td>443</td>\n",
       "      <td>25</td>\n",
       "      <td>5</td>\n",
       "      <td>6</td>\n",
       "      <td>{\"nodes\": [{\"id\": \"input_gene\", \"type\": \"gene\"...</td>\n",
       "    </tr>\n",
       "    <tr>\n",
       "      <th>4</th>\n",
       "      <td>1</td>\n",
       "      <td>461</td>\n",
       "      <td>26</td>\n",
       "      <td>5</td>\n",
       "      <td>5</td>\n",
       "      <td>{\"nodes\": [{\"id\": \"n0\", \"type\": \"disease\"}, {\"...</td>\n",
       "    </tr>\n",
       "  </tbody>\n",
       "</table>\n",
       "</div>"
      ],
      "text/plain": [
       "   surface  n_connected  n_unconnected  num_nodes  num_edges  \\\n",
       "0        1          397              0          4          4   \n",
       "1        1          432              4          3          2   \n",
       "2        1          441             24          5          5   \n",
       "3        1          443             25          5          6   \n",
       "4        1          461             26          5          5   \n",
       "\n",
       "                                               graph  \n",
       "0  {\"nodes\": [{\"id\": \"input_gene\", \"type\": \"gene\"...  \n",
       "1  {\"nodes\": [{\"id\": \"input_gene\", \"type\": \"gene\"...  \n",
       "2  {\"nodes\": [{\"id\": \"input_gene\", \"type\": \"gene\"...  \n",
       "3  {\"nodes\": [{\"id\": \"input_gene\", \"type\": \"gene\"...  \n",
       "4  {\"nodes\": [{\"id\": \"n0\", \"type\": \"disease\"}, {\"...  "
      ]
     },
     "execution_count": 281,
     "metadata": {},
     "output_type": "execute_result"
    }
   ],
   "source": [
    "df = pd.read_csv('gene_disease/paretographs',sep=\"\\t\")\n",
    "df.head()"
   ]
  },
  {
   "cell_type": "code",
   "execution_count": 341,
   "metadata": {},
   "outputs": [
    {
     "data": {
      "image/png": "[encoded data removed]",
      "text/plain": [
       "<Figure size 432x288 with 1 Axes>"
      ]
     },
     "metadata": {
      "needs_background": "light"
     },
     "output_type": "display_data"
    }
   ],
   "source": [
    "plt.plot(df[df.num_nodes==5]['n_connected'],df[df.num_nodes==5]['n_unconnected'],'b.')\n",
    "plt.plot(df[df.num_nodes==4]['n_connected'],df[df.num_nodes==4]['n_unconnected'],'g.')\n",
    "plt.plot(df[df.num_nodes==3]['n_connected'],df[df.num_nodes==3]['n_unconnected'],'r.')\n",
    "plt.xlabel('N+',fontsize=20)\n",
    "plt.ylabel('N-',fontsize=20)\n",
    "plt.show()"
   ]
  },
  {
   "cell_type": "code",
   "execution_count": 282,
   "metadata": {},
   "outputs": [],
   "source": [
    "import json\n",
    "from gamma_viewer import GammaViewer\n",
    "from IPython.display import display"
   ]
  },
  {
   "cell_type": "code",
   "execution_count": 283,
   "metadata": {},
   "outputs": [],
   "source": [
    "def makeplot(df,i):\n",
    "    c = df.iloc[i]['n_connected']\n",
    "    u = df.iloc[i]['n_unconnected']\n",
    "    print('Surface:',df.iloc[i]['surface'])\n",
    "    print('Connected/Unconnected/Fraction:', c,u,c/(u+c) )\n",
    "    g=json.loads(df.iloc[i]['graph'])\n",
    "    view = GammaViewer(props={\"data\":{'query_graph':g, \n",
    "                                  'knowledge_graph':{'nodes':[{\"id\":\"fakey\"}],'edges':[]}, \n",
    "                                  'results':[{\"node_bindings\":[],\"edge_bindings\":[]}]\n",
    "                                 }\n",
    "                         }\n",
    "                  )\n",
    "    display(view)"
   ]
  },
  {
   "cell_type": "code",
   "execution_count": 284,
   "metadata": {},
   "outputs": [
    {
     "name": "stdout",
     "output_type": "stream",
     "text": [
      "Surface: 1\n",
      "Connected/Unconnected/Fraction: 397 0 1.0\n"
     ]
    }
   ],
   "source": [
    "makeplot(df,0)\n"
   ]
  },
  {
   "cell_type": "code",
   "execution_count": 286,
   "metadata": {},
   "outputs": [
    {
     "name": "stdout",
     "output_type": "stream",
     "text": [
      "Surface: 1\n",
      "Connected/Unconnected/Fraction: 432 4 0.9908256880733946\n"
     ]
    }
   ],
   "source": [
    "makeplot(df,1)"
   ]
  },
  {
   "cell_type": "code",
   "execution_count": 287,
   "metadata": {},
   "outputs": [
    {
     "name": "stdout",
     "output_type": "stream",
     "text": [
      "Surface: 1\n",
      "Connected/Unconnected/Fraction: 441 24 0.9483870967741935\n"
     ]
    }
   ],
   "source": [
    "makeplot(df,2)"
   ]
  },
  {
   "cell_type": "code",
   "execution_count": 288,
   "metadata": {},
   "outputs": [
    {
     "name": "stdout",
     "output_type": "stream",
     "text": [
      "Surface: 1\n",
      "Connected/Unconnected/Fraction: 443 25 0.9465811965811965\n"
     ]
    }
   ],
   "source": [
    "makeplot(df,3)"
   ]
  },
  {
   "cell_type": "code",
   "execution_count": 290,
   "metadata": {},
   "outputs": [
    {
     "name": "stdout",
     "output_type": "stream",
     "text": [
      "Surface: 1\n",
      "Connected/Unconnected/Fraction: 461 26 0.946611909650924\n"
     ]
    }
   ],
   "source": [
    "makeplot(df,4)"
   ]
  },
  {
   "cell_type": "code",
   "execution_count": 291,
   "metadata": {},
   "outputs": [
    {
     "name": "stdout",
     "output_type": "stream",
     "text": [
      "Surface: 1\n",
      "Connected/Unconnected/Fraction: 498 34 0.9360902255639098\n"
     ]
    }
   ],
   "source": [
    "makeplot(df,5)"
   ]
  },
  {
   "cell_type": "code",
   "execution_count": 292,
   "metadata": {},
   "outputs": [
    {
     "name": "stdout",
     "output_type": "stream",
     "text": [
      "Surface: 1\n",
      "Connected/Unconnected/Fraction: 518 38 0.9316546762589928\n"
     ]
    }
   ],
   "source": [
    "makeplot(df,6)"
   ]
  },
  {
   "cell_type": "code",
   "execution_count": 293,
   "metadata": {},
   "outputs": [
    {
     "name": "stdout",
     "output_type": "stream",
     "text": [
      "Surface: 1\n",
      "Connected/Unconnected/Fraction: 560 42 0.9302325581395349\n"
     ]
    }
   ],
   "source": [
    "makeplot(df,7)"
   ]
  },
  {
   "cell_type": "code",
   "execution_count": 294,
   "metadata": {},
   "outputs": [
    {
     "name": "stdout",
     "output_type": "stream",
     "text": [
      "Surface: 1\n",
      "Connected/Unconnected/Fraction: 571 48 0.9224555735056543\n"
     ]
    }
   ],
   "source": [
    "makeplot(df,8)"
   ]
  },
  {
   "cell_type": "code",
   "execution_count": 295,
   "metadata": {},
   "outputs": [
    {
     "name": "stdout",
     "output_type": "stream",
     "text": [
      "Surface: 1\n",
      "Connected/Unconnected/Fraction: 581 50 0.9207606973058637\n"
     ]
    }
   ],
   "source": [
    "makeplot(df,9)"
   ]
  },
  {
   "cell_type": "code",
   "execution_count": 296,
   "metadata": {},
   "outputs": [
    {
     "name": "stdout",
     "output_type": "stream",
     "text": [
      "Surface: 1\n",
      "Connected/Unconnected/Fraction: 604 51 0.9221374045801527\n"
     ]
    }
   ],
   "source": [
    "makeplot(df,10)"
   ]
  },
  {
   "cell_type": "code",
   "execution_count": 297,
   "metadata": {},
   "outputs": [
    {
     "name": "stdout",
     "output_type": "stream",
     "text": [
      "Surface: 1\n",
      "Connected/Unconnected/Fraction: 639 52 0.9247467438494935\n"
     ]
    }
   ],
   "source": [
    "makeplot(df,11)"
   ]
  },
  {
   "cell_type": "code",
   "execution_count": 298,
   "metadata": {},
   "outputs": [
    {
     "name": "stdout",
     "output_type": "stream",
     "text": [
      "Surface: 1\n",
      "Connected/Unconnected/Fraction: 658 55 0.9228611500701263\n"
     ]
    }
   ],
   "source": [
    "makeplot(df,12)"
   ]
  },
  {
   "cell_type": "code",
   "execution_count": 299,
   "metadata": {},
   "outputs": [
    {
     "name": "stdout",
     "output_type": "stream",
     "text": [
      "Surface: 1\n",
      "Connected/Unconnected/Fraction: 690 57 0.9236947791164659\n"
     ]
    }
   ],
   "source": [
    "makeplot(df,13)"
   ]
  },
  {
   "cell_type": "code",
   "execution_count": 300,
   "metadata": {},
   "outputs": [
    {
     "name": "stdout",
     "output_type": "stream",
     "text": [
      "Surface: 1\n",
      "Connected/Unconnected/Fraction: 778 71 0.9163722025912838\n"
     ]
    }
   ],
   "source": [
    "makeplot(df,14)"
   ]
  },
  {
   "cell_type": "code",
   "execution_count": 301,
   "metadata": {},
   "outputs": [
    {
     "name": "stdout",
     "output_type": "stream",
     "text": [
      "Surface: 1\n",
      "Connected/Unconnected/Fraction: 798 101 0.8876529477196885\n"
     ]
    }
   ],
   "source": [
    "makeplot(df,15)"
   ]
  },
  {
   "cell_type": "code",
   "execution_count": 302,
   "metadata": {},
   "outputs": [
    {
     "name": "stdout",
     "output_type": "stream",
     "text": [
      "Surface: 1\n",
      "Connected/Unconnected/Fraction: 822 117 0.8753993610223643\n"
     ]
    }
   ],
   "source": [
    "makeplot(df,16)"
   ]
  },
  {
   "cell_type": "code",
   "execution_count": 303,
   "metadata": {},
   "outputs": [
    {
     "name": "stdout",
     "output_type": "stream",
     "text": [
      "Surface: 1\n",
      "Connected/Unconnected/Fraction: 854 120 0.8767967145790554\n"
     ]
    }
   ],
   "source": [
    "makeplot(df,17)"
   ]
  },
  {
   "cell_type": "code",
   "execution_count": 304,
   "metadata": {},
   "outputs": [
    {
     "name": "stdout",
     "output_type": "stream",
     "text": [
      "Surface: 1\n",
      "Connected/Unconnected/Fraction: 896 147 0.8590604026845637\n"
     ]
    }
   ],
   "source": [
    "makeplot(df,18)"
   ]
  },
  {
   "cell_type": "code",
   "execution_count": 305,
   "metadata": {},
   "outputs": [
    {
     "name": "stdout",
     "output_type": "stream",
     "text": [
      "Surface: 1\n",
      "Connected/Unconnected/Fraction: 900 151 0.8563273073263559\n"
     ]
    }
   ],
   "source": [
    "makeplot(df,19)"
   ]
  },
  {
   "cell_type": "code",
   "execution_count": 306,
   "metadata": {},
   "outputs": [
    {
     "name": "stdout",
     "output_type": "stream",
     "text": [
      "Surface: 1\n",
      "Connected/Unconnected/Fraction: 959 164 0.8539626001780944\n"
     ]
    }
   ],
   "source": [
    "makeplot(df,20)"
   ]
  },
  {
   "cell_type": "code",
   "execution_count": 307,
   "metadata": {},
   "outputs": [
    {
     "name": "stdout",
     "output_type": "stream",
     "text": [
      "Surface: 1\n",
      "Connected/Unconnected/Fraction: 963 196 0.8308886971527178\n"
     ]
    }
   ],
   "source": [
    "makeplot(df,21)"
   ]
  },
  {
   "cell_type": "code",
   "execution_count": 308,
   "metadata": {},
   "outputs": [
    {
     "name": "stdout",
     "output_type": "stream",
     "text": [
      "Surface: 1\n",
      "Connected/Unconnected/Fraction: 1050 460 0.695364238410596\n"
     ]
    }
   ],
   "source": [
    "makeplot(df,22)"
   ]
  },
  {
   "cell_type": "code",
   "execution_count": 309,
   "metadata": {},
   "outputs": [
    {
     "name": "stdout",
     "output_type": "stream",
     "text": [
      "Surface: 1\n",
      "Connected/Unconnected/Fraction: 1093 579 0.6537081339712919\n"
     ]
    }
   ],
   "source": [
    "makeplot(df,23)"
   ]
  },
  {
   "cell_type": "code",
   "execution_count": 310,
   "metadata": {},
   "outputs": [
    {
     "name": "stdout",
     "output_type": "stream",
     "text": [
      "Surface: 1\n",
      "Connected/Unconnected/Fraction: 1139 613 0.6501141552511416\n"
     ]
    }
   ],
   "source": [
    "makeplot(df,24)"
   ]
  },
  {
   "cell_type": "code",
   "execution_count": 311,
   "metadata": {},
   "outputs": [
    {
     "name": "stdout",
     "output_type": "stream",
     "text": [
      "Surface: 1\n",
      "Connected/Unconnected/Fraction: 1186 635 0.6512904997254256\n"
     ]
    }
   ],
   "source": [
    "makeplot(df,25)"
   ]
  },
  {
   "cell_type": "code",
   "execution_count": 312,
   "metadata": {},
   "outputs": [
    {
     "name": "stdout",
     "output_type": "stream",
     "text": [
      "Surface: 1\n",
      "Connected/Unconnected/Fraction: 1212 686 0.6385669125395153\n"
     ]
    }
   ],
   "source": [
    "makeplot(df,26)"
   ]
  },
  {
   "cell_type": "code",
   "execution_count": 313,
   "metadata": {},
   "outputs": [
    {
     "name": "stdout",
     "output_type": "stream",
     "text": [
      "Surface: 1\n",
      "Connected/Unconnected/Fraction: 1231 937 0.5678044280442804\n"
     ]
    }
   ],
   "source": [
    "makeplot(df,27)"
   ]
  },
  {
   "cell_type": "code",
   "execution_count": 314,
   "metadata": {},
   "outputs": [
    {
     "name": "stdout",
     "output_type": "stream",
     "text": [
      "Surface: 1\n",
      "Connected/Unconnected/Fraction: 1480 1604 0.4798962386511025\n"
     ]
    }
   ],
   "source": [
    "makeplot(df,28)"
   ]
  },
  {
   "cell_type": "code",
   "execution_count": 315,
   "metadata": {},
   "outputs": [
    {
     "name": "stdout",
     "output_type": "stream",
     "text": [
      "Surface: 1\n",
      "Connected/Unconnected/Fraction: 1498 1837 0.44917541229385305\n"
     ]
    }
   ],
   "source": [
    "makeplot(df,29)"
   ]
  },
  {
   "cell_type": "code",
   "execution_count": 316,
   "metadata": {},
   "outputs": [
    {
     "name": "stdout",
     "output_type": "stream",
     "text": [
      "Surface: 1\n",
      "Connected/Unconnected/Fraction: 1589 2212 0.4180478821362799\n"
     ]
    }
   ],
   "source": [
    "makeplot(df,30)"
   ]
  },
  {
   "cell_type": "code",
   "execution_count": 317,
   "metadata": {},
   "outputs": [
    {
     "name": "stdout",
     "output_type": "stream",
     "text": [
      "Surface: 1\n",
      "Connected/Unconnected/Fraction: 1642 2408 0.4054320987654321\n"
     ]
    }
   ],
   "source": [
    "makeplot(df,31)"
   ]
  },
  {
   "cell_type": "code",
   "execution_count": 318,
   "metadata": {},
   "outputs": [
    {
     "name": "stdout",
     "output_type": "stream",
     "text": [
      "Surface: 1\n",
      "Connected/Unconnected/Fraction: 1717 2672 0.39120528594212806\n"
     ]
    }
   ],
   "source": [
    "makeplot(df,32)"
   ]
  },
  {
   "cell_type": "code",
   "execution_count": 319,
   "metadata": {},
   "outputs": [
    {
     "name": "stdout",
     "output_type": "stream",
     "text": [
      "Surface: 1\n",
      "Connected/Unconnected/Fraction: 1765 4559 0.2790955091714105\n"
     ]
    }
   ],
   "source": [
    "makeplot(df,33)"
   ]
  },
  {
   "cell_type": "code",
   "execution_count": 320,
   "metadata": {},
   "outputs": [
    {
     "name": "stdout",
     "output_type": "stream",
     "text": [
      "Surface: 1\n",
      "Connected/Unconnected/Fraction: 1871 4615 0.2884674683934628\n"
     ]
    }
   ],
   "source": [
    "makeplot(df,34)"
   ]
  },
  {
   "cell_type": "code",
   "execution_count": 321,
   "metadata": {},
   "outputs": [
    {
     "name": "stdout",
     "output_type": "stream",
     "text": [
      "Surface: 1\n",
      "Connected/Unconnected/Fraction: 2055 6761 0.2330989110707804\n"
     ]
    }
   ],
   "source": [
    "makeplot(df,35)"
   ]
  },
  {
   "cell_type": "code",
   "execution_count": 322,
   "metadata": {},
   "outputs": [
    {
     "name": "stdout",
     "output_type": "stream",
     "text": [
      "Surface: 1\n",
      "Connected/Unconnected/Fraction: 2070 7074 0.2263779527559055\n"
     ]
    }
   ],
   "source": [
    "makeplot(df,36)"
   ]
  },
  {
   "cell_type": "code",
   "execution_count": 323,
   "metadata": {},
   "outputs": [
    {
     "name": "stdout",
     "output_type": "stream",
     "text": [
      "Surface: 1\n",
      "Connected/Unconnected/Fraction: 2073 7922 0.20740370185092546\n"
     ]
    }
   ],
   "source": [
    "makeplot(df,37)"
   ]
  },
  {
   "cell_type": "code",
   "execution_count": 324,
   "metadata": {},
   "outputs": [
    {
     "name": "stdout",
     "output_type": "stream",
     "text": [
      "Surface: 2\n",
      "Connected/Unconnected/Fraction: 388 0 1.0\n"
     ]
    }
   ],
   "source": [
    "makeplot(df,38)"
   ]
  },
  {
   "cell_type": "code",
   "execution_count": 325,
   "metadata": {},
   "outputs": [
    {
     "name": "stdout",
     "output_type": "stream",
     "text": [
      "Surface: 2\n",
      "Connected/Unconnected/Fraction: 404 11 0.9734939759036144\n"
     ]
    }
   ],
   "source": [
    "makeplot(df,39)"
   ]
  },
  {
   "cell_type": "code",
   "execution_count": 326,
   "metadata": {},
   "outputs": [
    {
     "name": "stdout",
     "output_type": "stream",
     "text": [
      "Surface: 2\n",
      "Connected/Unconnected/Fraction: 431 15 0.9663677130044843\n"
     ]
    }
   ],
   "source": [
    "makeplot(df,40)"
   ]
  },
  {
   "cell_type": "code",
   "execution_count": 327,
   "metadata": {},
   "outputs": [
    {
     "name": "stdout",
     "output_type": "stream",
     "text": [
      "Surface: 2\n",
      "Connected/Unconnected/Fraction: 432 24 0.9473684210526315\n"
     ]
    }
   ],
   "source": [
    "makeplot(df,41)"
   ]
  },
  {
   "cell_type": "code",
   "execution_count": 328,
   "metadata": {},
   "outputs": [
    {
     "name": "stdout",
     "output_type": "stream",
     "text": [
      "Surface: 2\n",
      "Connected/Unconnected/Fraction: 434 28 0.9393939393939394\n"
     ]
    }
   ],
   "source": [
    "makeplot(df,42)"
   ]
  },
  {
   "cell_type": "code",
   "execution_count": 329,
   "metadata": {},
   "outputs": [
    {
     "name": "stdout",
     "output_type": "stream",
     "text": [
      "Surface: 2\n",
      "Connected/Unconnected/Fraction: 448 30 0.9372384937238494\n"
     ]
    }
   ],
   "source": [
    "makeplot(df,43)"
   ]
  },
  {
   "cell_type": "code",
   "execution_count": 330,
   "metadata": {},
   "outputs": [
    {
     "name": "stdout",
     "output_type": "stream",
     "text": [
      "Surface: 2\n",
      "Connected/Unconnected/Fraction: 454 33 0.9322381930184805\n"
     ]
    }
   ],
   "source": [
    "makeplot(df,44)"
   ]
  },
  {
   "cell_type": "code",
   "execution_count": 331,
   "metadata": {},
   "outputs": [
    {
     "name": "stdout",
     "output_type": "stream",
     "text": [
      "Surface: 2\n",
      "Connected/Unconnected/Fraction: 540 42 0.9278350515463918\n"
     ]
    }
   ],
   "source": [
    "makeplot(df,50)"
   ]
  },
  {
   "cell_type": "code",
   "execution_count": 332,
   "metadata": {},
   "outputs": [
    {
     "name": "stdout",
     "output_type": "stream",
     "text": [
      "Surface: 2\n",
      "Connected/Unconnected/Fraction: 635 52 0.9243085880640466\n"
     ]
    }
   ],
   "source": [
    "makeplot(df,55)"
   ]
  },
  {
   "cell_type": "code",
   "execution_count": 333,
   "metadata": {},
   "outputs": [
    {
     "name": "stdout",
     "output_type": "stream",
     "text": [
      "Surface: 2\n",
      "Connected/Unconnected/Fraction: 742 89 0.8929001203369434\n"
     ]
    }
   ],
   "source": [
    "makeplot(df,59)"
   ]
  },
  {
   "cell_type": "code",
   "execution_count": 334,
   "metadata": {},
   "outputs": [
    {
     "name": "stdout",
     "output_type": "stream",
     "text": [
      "Surface: 2\n",
      "Connected/Unconnected/Fraction: 744 90 0.8920863309352518\n"
     ]
    }
   ],
   "source": [
    "makeplot(df,60)"
   ]
  },
  {
   "cell_type": "code",
   "execution_count": 335,
   "metadata": {},
   "outputs": [
    {
     "name": "stdout",
     "output_type": "stream",
     "text": [
      "Surface: 2\n",
      "Connected/Unconnected/Fraction: 754 98 0.8849765258215962\n"
     ]
    }
   ],
   "source": [
    "makeplot(df,61)"
   ]
  },
  {
   "cell_type": "code",
   "execution_count": 336,
   "metadata": {},
   "outputs": [
    {
     "name": "stdout",
     "output_type": "stream",
     "text": [
      "Surface: 2\n",
      "Connected/Unconnected/Fraction: 777 107 0.8789592760180995\n"
     ]
    }
   ],
   "source": [
    "makeplot(df,62)"
   ]
  },
  {
   "cell_type": "code",
   "execution_count": 337,
   "metadata": {},
   "outputs": [
    {
     "name": "stdout",
     "output_type": "stream",
     "text": [
      "Surface: 2\n",
      "Connected/Unconnected/Fraction: 824 122 0.8710359408033826\n"
     ]
    }
   ],
   "source": [
    "makeplot(df,63)"
   ]
  },
  {
   "cell_type": "code",
   "execution_count": 338,
   "metadata": {},
   "outputs": [
    {
     "name": "stdout",
     "output_type": "stream",
     "text": [
      "Surface: 3\n",
      "Connected/Unconnected/Fraction: 589 51 0.9203125\n"
     ]
    }
   ],
   "source": [
    "makeplot(df,91)"
   ]
  },
  {
   "cell_type": "code",
   "execution_count": 339,
   "metadata": {},
   "outputs": [
    {
     "name": "stdout",
     "output_type": "stream",
     "text": [
      "Surface: 4\n",
      "Connected/Unconnected/Fraction: 593 52 0.9193798449612403\n"
     ]
    }
   ],
   "source": [
    "makeplot(df,138)"
   ]
  },
  {
   "cell_type": "code",
   "execution_count": 342,
   "metadata": {},
   "outputs": [
    {
     "name": "stdout",
     "output_type": "stream",
     "text": [
      "Surface: 4\n",
      "Connected/Unconnected/Fraction: 624 55 0.9189985272459499\n"
     ]
    }
   ],
   "source": [
    "makeplot(df,139)"
   ]
  },
  {
   "cell_type": "code",
   "execution_count": 347,
   "metadata": {},
   "outputs": [
    {
     "name": "stdout",
     "output_type": "stream",
     "text": [
      "Surface: 5\n",
      "Connected/Unconnected/Fraction: 301 0 1.0\n"
     ]
    }
   ],
   "source": [
    "makeplot(df,164)"
   ]
  },
  {
   "cell_type": "code",
   "execution_count": 348,
   "metadata": {},
   "outputs": [
    {
     "name": "stdout",
     "output_type": "stream",
     "text": [
      "Surface: 5\n",
      "Connected/Unconnected/Fraction: 304 2 0.9934640522875817\n"
     ]
    }
   ],
   "source": [
    "makeplot(df,165)"
   ]
  },
  {
   "cell_type": "code",
   "execution_count": 349,
   "metadata": {},
   "outputs": [
    {
     "name": "stdout",
     "output_type": "stream",
     "text": [
      "Surface: 5\n",
      "Connected/Unconnected/Fraction: 322 10 0.9698795180722891\n"
     ]
    }
   ],
   "source": [
    "makeplot(df,166)"
   ]
  },
  {
   "cell_type": "code",
   "execution_count": 350,
   "metadata": {},
   "outputs": [
    {
     "name": "stdout",
     "output_type": "stream",
     "text": [
      "Surface: 5\n",
      "Connected/Unconnected/Fraction: 343 12 0.9661971830985916\n"
     ]
    }
   ],
   "source": [
    "makeplot(df,167)"
   ]
  },
  {
   "cell_type": "code",
   "execution_count": 351,
   "metadata": {},
   "outputs": [
    {
     "name": "stdout",
     "output_type": "stream",
     "text": [
      "Surface: 5\n",
      "Connected/Unconnected/Fraction: 356 14 0.9621621621621622\n"
     ]
    }
   ],
   "source": [
    "makeplot(df,168)"
   ]
  },
  {
   "cell_type": "code",
   "execution_count": 352,
   "metadata": {},
   "outputs": [
    {
     "name": "stdout",
     "output_type": "stream",
     "text": [
      "Surface: 5\n",
      "Connected/Unconnected/Fraction: 361 18 0.9525065963060686\n"
     ]
    }
   ],
   "source": [
    "makeplot(df,169)"
   ]
  },
  {
   "cell_type": "code",
   "execution_count": 353,
   "metadata": {},
   "outputs": [
    {
     "name": "stdout",
     "output_type": "stream",
     "text": [
      "Surface: 5\n",
      "Connected/Unconnected/Fraction: 365 19 0.9505208333333334\n"
     ]
    }
   ],
   "source": [
    "makeplot(df,170)"
   ]
  },
  {
   "cell_type": "code",
   "execution_count": 354,
   "metadata": {},
   "outputs": [
    {
     "name": "stdout",
     "output_type": "stream",
     "text": [
      "Surface: 5\n",
      "Connected/Unconnected/Fraction: 374 20 0.949238578680203\n"
     ]
    }
   ],
   "source": [
    "makeplot(df,171)"
   ]
  },
  {
   "cell_type": "code",
   "execution_count": 355,
   "metadata": {},
   "outputs": [
    {
     "name": "stdout",
     "output_type": "stream",
     "text": [
      "Surface: 5\n",
      "Connected/Unconnected/Fraction: 382 22 0.9455445544554455\n"
     ]
    }
   ],
   "source": [
    "makeplot(df,172)"
   ]
  },
  {
   "cell_type": "code",
   "execution_count": 356,
   "metadata": {},
   "outputs": [
    {
     "name": "stdout",
     "output_type": "stream",
     "text": [
      "Surface: 5\n",
      "Connected/Unconnected/Fraction: 394 23 0.9448441247002398\n"
     ]
    }
   ],
   "source": [
    "makeplot(df,173)"
   ]
  },
  {
   "cell_type": "code",
   "execution_count": 357,
   "metadata": {},
   "outputs": [
    {
     "name": "stdout",
     "output_type": "stream",
     "text": [
      "Surface: 5\n",
      "Connected/Unconnected/Fraction: 394 23 0.9448441247002398\n"
     ]
    }
   ],
   "source": [
    "makeplot(df,173)"
   ]
  },
  {
   "cell_type": "code",
   "execution_count": 358,
   "metadata": {},
   "outputs": [
    {
     "name": "stdout",
     "output_type": "stream",
     "text": [
      "Surface: 5\n",
      "Connected/Unconnected/Fraction: 407 24 0.9443155452436195\n"
     ]
    }
   ],
   "source": [
    "makeplot(df,174)"
   ]
  },
  {
   "cell_type": "code",
   "execution_count": 359,
   "metadata": {},
   "outputs": [
    {
     "name": "stdout",
     "output_type": "stream",
     "text": [
      "Surface: 5\n",
      "Connected/Unconnected/Fraction: 408 27 0.9379310344827586\n"
     ]
    }
   ],
   "source": [
    "makeplot(df,175)"
   ]
  },
  {
   "cell_type": "code",
   "execution_count": null,
   "metadata": {},
   "outputs": [],
   "source": []
  }
 ],
 "metadata": {
  "kernelspec": {
   "display_name": "Python 3",
   "language": "python",
   "name": "python3"
  },
  "language_info": {
   "codemirror_mode": {
    "name": "ipython",
    "version": 3
   },
   "file_extension": ".py",
   "mimetype": "text/x-python",
   "name": "python",
   "nbconvert_exporter": "python",
   "pygments_lexer": "ipython3",
   "version": "3.8.5"
  }
 },
 "nbformat": 4,
 "nbformat_minor": 4
}
