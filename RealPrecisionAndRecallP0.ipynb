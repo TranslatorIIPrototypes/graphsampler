{
 "cells": [
  {
   "cell_type": "code",
   "execution_count": 206,
   "metadata": {},
   "outputs": [
    {
     "ename": "ModuleNotFoundError",
     "evalue": "No module named 'sklearn'",
     "output_type": "error",
     "traceback": [
      "\u001b[0;31m---------------------------------------------------------------------------\u001b[0m",
      "\u001b[0;31mModuleNotFoundError\u001b[0m                       Traceback (most recent call last)",
      "\u001b[0;32m<ipython-input-206-eefdbb5cb41c>\u001b[0m in \u001b[0;36m<module>\u001b[0;34m\u001b[0m\n\u001b[1;32m      2\u001b[0m \u001b[0;32mimport\u001b[0m \u001b[0mnumpy\u001b[0m \u001b[0;32mas\u001b[0m \u001b[0mnp\u001b[0m\u001b[0;34m\u001b[0m\u001b[0;34m\u001b[0m\u001b[0m\n\u001b[1;32m      3\u001b[0m \u001b[0;32mimport\u001b[0m \u001b[0mmatplotlib\u001b[0m\u001b[0;34m.\u001b[0m\u001b[0mpyplot\u001b[0m \u001b[0;32mas\u001b[0m \u001b[0mplt\u001b[0m\u001b[0;34m\u001b[0m\u001b[0;34m\u001b[0m\u001b[0m\n\u001b[0;32m----> 4\u001b[0;31m \u001b[0;32mimport\u001b[0m \u001b[0msklearn\u001b[0m \u001b[0;32mas\u001b[0m \u001b[0msk\u001b[0m\u001b[0;34m\u001b[0m\u001b[0;34m\u001b[0m\u001b[0m\n\u001b[0m",
      "\u001b[0;31mModuleNotFoundError\u001b[0m: No module named 'sklearn'"
     ]
    }
   ],
   "source": [
    "import pandas as pd\n",
    "import numpy as np\n",
    "import matplotlib.pyplot as plt\n",
    "import sklearn as sk"
   ]
  },
  {
   "cell_type": "code",
   "execution_count": 8,
   "metadata": {},
   "outputs": [],
   "source": [
    "pr_results = pd.read_csv('gene_disease/precisionrecall_0',sep='\\t',names=['gene','disease','connected'])"
   ]
  },
  {
   "cell_type": "code",
   "execution_count": 9,
   "metadata": {},
   "outputs": [
    {
     "data": {
      "text/html": [
       "<div>\n",
       "<style scoped>\n",
       "    .dataframe tbody tr th:only-of-type {\n",
       "        vertical-align: middle;\n",
       "    }\n",
       "\n",
       "    .dataframe tbody tr th {\n",
       "        vertical-align: top;\n",
       "    }\n",
       "\n",
       "    .dataframe thead th {\n",
       "        text-align: right;\n",
       "    }\n",
       "</style>\n",
       "<table border=\"1\" class=\"dataframe\">\n",
       "  <thead>\n",
       "    <tr style=\"text-align: right;\">\n",
       "      <th></th>\n",
       "      <th>gene</th>\n",
       "      <th>disease</th>\n",
       "      <th>connected</th>\n",
       "    </tr>\n",
       "  </thead>\n",
       "  <tbody>\n",
       "    <tr>\n",
       "      <th>0</th>\n",
       "      <td>NCBIGene:9031</td>\n",
       "      <td>MONDO:0019187</td>\n",
       "      <td>False</td>\n",
       "    </tr>\n",
       "    <tr>\n",
       "      <th>1</th>\n",
       "      <td>NCBIGene:9031</td>\n",
       "      <td>MONDO:0018849</td>\n",
       "      <td>True</td>\n",
       "    </tr>\n",
       "    <tr>\n",
       "      <th>2</th>\n",
       "      <td>NCBIGene:9031</td>\n",
       "      <td>MONDO:0005263</td>\n",
       "      <td>True</td>\n",
       "    </tr>\n",
       "    <tr>\n",
       "      <th>3</th>\n",
       "      <td>NCBIGene:9031</td>\n",
       "      <td>MONDO:0002146</td>\n",
       "      <td>False</td>\n",
       "    </tr>\n",
       "    <tr>\n",
       "      <th>4</th>\n",
       "      <td>NCBIGene:9031</td>\n",
       "      <td>MONDO:0001565</td>\n",
       "      <td>True</td>\n",
       "    </tr>\n",
       "  </tbody>\n",
       "</table>\n",
       "</div>"
      ],
      "text/plain": [
       "            gene        disease  connected\n",
       "0  NCBIGene:9031  MONDO:0019187      False\n",
       "1  NCBIGene:9031  MONDO:0018849       True\n",
       "2  NCBIGene:9031  MONDO:0005263       True\n",
       "3  NCBIGene:9031  MONDO:0002146      False\n",
       "4  NCBIGene:9031  MONDO:0001565       True"
      ]
     },
     "execution_count": 9,
     "metadata": {},
     "output_type": "execute_result"
    }
   ],
   "source": [
    "pr_results.head()"
   ]
  },
  {
   "cell_type": "code",
   "execution_count": 17,
   "metadata": {},
   "outputs": [],
   "source": [
    "hits = pr_results.value_counts('connected')[True]\n",
    "misses = pr_results.value_counts('connected')[False]"
   ]
  },
  {
   "cell_type": "code",
   "execution_count": 70,
   "metadata": {},
   "outputs": [],
   "source": [
    "all_connected = pd.read_csv('gene_disease/allconnected',sep='\\t',names=['gene','disease'])\n",
    "total_pairs = len(all_connected)\n",
    "diseases_per_gene = all_connected.groupby('gene').count().rename({'disease':'disease_count'},axis=1)\n",
    "genes_per_disease = all_connected.groupby('disease').count().rename({'gene':'gene_count'},axis=1)"
   ]
  },
  {
   "cell_type": "code",
   "execution_count": 19,
   "metadata": {},
   "outputs": [],
   "source": [
    "recall = hits / total_pairs\n",
    "precision = hits / (hits+misses)"
   ]
  },
  {
   "cell_type": "code",
   "execution_count": 20,
   "metadata": {},
   "outputs": [
    {
     "name": "stdout",
     "output_type": "stream",
     "text": [
      "Precision: 0.16021329987452948\n",
      "Recall: 0.13761107009877088\n"
     ]
    }
   ],
   "source": [
    "print('Precision:', precision)\n",
    "print('Recall:', recall)"
   ]
  },
  {
   "cell_type": "code",
   "execution_count": 113,
   "metadata": {},
   "outputs": [],
   "source": [
    "gb=pr_results.groupby(['gene','connected']).count()\n",
    "gene_results = gb.unstack()['disease']\n",
    "genecounts = pd.merge(gene_results,diseases_per_gene,on='gene')\n",
    "genecounts['Precision'] = genecounts[True] / (genecounts[True] + genecounts[False])\n",
    "genecounts['Recall'] = genecounts[True] / genecounts['disease_count']"
   ]
  },
  {
   "cell_type": "code",
   "execution_count": 114,
   "metadata": {},
   "outputs": [],
   "source": [
    "db=pr_results.groupby(['disease','connected']).count()\n",
    "disease_results = db.unstack()['gene']\n",
    "diseasecounts = pd.merge(disease_results,genes_per_disease,on='disease')\n",
    "diseasecounts['Precision'] = diseasecounts[True] / (diseasecounts[True] + diseasecounts[False])\n",
    "diseasecounts['Recall'] = diseasecounts[True] / diseasecounts['gene_count']"
   ]
  },
  {
   "cell_type": "code",
   "execution_count": 115,
   "metadata": {},
   "outputs": [],
   "source": [
    "def plotit(x):\n",
    "    plt.subplot(121)\n",
    "    plt.plot(x['Recall'], x['Precision'], 'b.')\n",
    "    xl = plt.xlim()\n",
    "    yl = plt.ylim()\n",
    "    plt.plot(xl, [precision,precision], 'r-')\n",
    "    plt.plot([recall,recall], yl, 'r-')\n",
    "    plt.xlabel('Recall')\n",
    "    plt.ylabel('Precision')\n",
    "    plt.subplot(122)\n",
    "    plt.plot(x['Precision'],x[False],'b.')\n",
    "    plt.xlabel('Precision')\n",
    "    #plt.ylabel('Misses')\n",
    "    plt.show()"
   ]
  },
  {
   "cell_type": "code",
   "execution_count": 116,
   "metadata": {},
   "outputs": [
    {
     "data": {
      "image/png": "[encoded data removed]",
      "text/plain": [
       "<Figure size 432x288 with 2 Axes>"
      ]
     },
     "metadata": {
      "needs_background": "light"
     },
     "output_type": "display_data"
    }
   ],
   "source": [
    "plotit(genecounts)"
   ]
  },
  {
   "cell_type": "code",
   "execution_count": 117,
   "metadata": {},
   "outputs": [
    {
     "data": {
      "image/png": "[encoded data removed]",
      "text/plain": [
       "<Figure size 432x288 with 2 Axes>"
      ]
     },
     "metadata": {
      "needs_background": "light"
     },
     "output_type": "display_data"
    }
   ],
   "source": [
    "plotit(diseasecounts)"
   ]
  },
  {
   "cell_type": "code",
   "execution_count": 91,
   "metadata": {},
   "outputs": [
    {
     "data": {
      "text/html": [
       "<div>\n",
       "<style scoped>\n",
       "    .dataframe tbody tr th:only-of-type {\n",
       "        vertical-align: middle;\n",
       "    }\n",
       "\n",
       "    .dataframe tbody tr th {\n",
       "        vertical-align: top;\n",
       "    }\n",
       "\n",
       "    .dataframe thead th {\n",
       "        text-align: right;\n",
       "    }\n",
       "</style>\n",
       "<table border=\"1\" class=\"dataframe\">\n",
       "  <thead>\n",
       "    <tr style=\"text-align: right;\">\n",
       "      <th></th>\n",
       "      <th>False</th>\n",
       "      <th>True</th>\n",
       "      <th>gene_count</th>\n",
       "      <th>Precision</th>\n",
       "      <th>Recall</th>\n",
       "    </tr>\n",
       "    <tr>\n",
       "      <th>disease</th>\n",
       "      <th></th>\n",
       "      <th></th>\n",
       "      <th></th>\n",
       "      <th></th>\n",
       "      <th></th>\n",
       "    </tr>\n",
       "  </thead>\n",
       "  <tbody>\n",
       "    <tr>\n",
       "      <th>MONDO:0001071</th>\n",
       "      <td>1246.0</td>\n",
       "      <td>347.0</td>\n",
       "      <td>609</td>\n",
       "      <td>0.217828</td>\n",
       "      <td>0.569787</td>\n",
       "    </tr>\n",
       "    <tr>\n",
       "      <th>MONDO:0001170</th>\n",
       "      <td>1134.0</td>\n",
       "      <td>10.0</td>\n",
       "      <td>17</td>\n",
       "      <td>0.008741</td>\n",
       "      <td>0.588235</td>\n",
       "    </tr>\n",
       "    <tr>\n",
       "      <th>MONDO:0001220</th>\n",
       "      <td>1125.0</td>\n",
       "      <td>26.0</td>\n",
       "      <td>35</td>\n",
       "      <td>0.022589</td>\n",
       "      <td>0.742857</td>\n",
       "    </tr>\n",
       "    <tr>\n",
       "      <th>MONDO:0001442</th>\n",
       "      <td>1061.0</td>\n",
       "      <td>3.0</td>\n",
       "      <td>13</td>\n",
       "      <td>0.002820</td>\n",
       "      <td>0.230769</td>\n",
       "    </tr>\n",
       "    <tr>\n",
       "      <th>MONDO:0005395</th>\n",
       "      <td>1115.0</td>\n",
       "      <td>48.0</td>\n",
       "      <td>66</td>\n",
       "      <td>0.041273</td>\n",
       "      <td>0.727273</td>\n",
       "    </tr>\n",
       "    <tr>\n",
       "      <th>MONDO:0006816</th>\n",
       "      <td>1047.0</td>\n",
       "      <td>28.0</td>\n",
       "      <td>43</td>\n",
       "      <td>0.026047</td>\n",
       "      <td>0.651163</td>\n",
       "    </tr>\n",
       "    <tr>\n",
       "      <th>MONDO:0019056</th>\n",
       "      <td>1140.0</td>\n",
       "      <td>2.0</td>\n",
       "      <td>2</td>\n",
       "      <td>0.001751</td>\n",
       "      <td>1.000000</td>\n",
       "    </tr>\n",
       "  </tbody>\n",
       "</table>\n",
       "</div>"
      ],
      "text/plain": [
       "                False   True  gene_count  Precision    Recall\n",
       "disease                                                      \n",
       "MONDO:0001071  1246.0  347.0         609   0.217828  0.569787\n",
       "MONDO:0001170  1134.0   10.0          17   0.008741  0.588235\n",
       "MONDO:0001220  1125.0   26.0          35   0.022589  0.742857\n",
       "MONDO:0001442  1061.0    3.0          13   0.002820  0.230769\n",
       "MONDO:0005395  1115.0   48.0          66   0.041273  0.727273\n",
       "MONDO:0006816  1047.0   28.0          43   0.026047  0.651163\n",
       "MONDO:0019056  1140.0    2.0           2   0.001751  1.000000"
      ]
     },
     "execution_count": 91,
     "metadata": {},
     "output_type": "execute_result"
    }
   ],
   "source": [
    "diseasecounts[diseasecounts[False] > 1000]"
   ]
  },
  {
   "cell_type": "markdown",
   "metadata": {},
   "source": [
    "This query is a triangle (containng the gene) and one of the other points of the triangle branches to the disease. The link is (triangle_disease)-[has phenotpye]->(input disease). The answers with the most False hits, and therefore worst precision are those where the number of triangle diseases for the input disease is very large (like 1000)."
   ]
  },
  {
   "cell_type": "code",
   "execution_count": 98,
   "metadata": {},
   "outputs": [],
   "source": [
    "geneprecision = genecounts['Precision'].values\n",
    "geneprecision.sort()\n",
    "diseaseprecision = diseasecounts['Precision'].values\n",
    "diseaseprecision.sort()"
   ]
  },
  {
   "cell_type": "code",
   "execution_count": 108,
   "metadata": {},
   "outputs": [
    {
     "data": {
      "image/png": "[encoded data removed]",
      "text/plain": [
       "<Figure size 432x288 with 1 Axes>"
      ]
     },
     "metadata": {
      "needs_background": "light"
     },
     "output_type": "display_data"
    }
   ],
   "source": [
    "plt.plot(np.linspace(0,1,num=len(geneprecision)),geneprecision,'r-',label='gene')\n",
    "plt.plot(np.linspace(0,1,num=len(diseaseprecision)),diseaseprecision,'b-',label='disease')\n",
    "plt.legend()\n",
    "plt.ylabel('Precision')\n",
    "plt.show()"
   ]
  },
  {
   "cell_type": "code",
   "execution_count": 104,
   "metadata": {},
   "outputs": [],
   "source": [
    "generecall = genecounts['Recall'].values\n",
    "generecall.sort()\n",
    "diseaserecall = diseasecounts['Recall'].values\n",
    "diseaserecall.sort()"
   ]
  },
  {
   "cell_type": "code",
   "execution_count": 110,
   "metadata": {},
   "outputs": [
    {
     "data": {
      "image/png": "[encoded data removed]",
      "text/plain": [
       "<Figure size 432x288 with 1 Axes>"
      ]
     },
     "metadata": {
      "needs_background": "light"
     },
     "output_type": "display_data"
    }
   ],
   "source": [
    "plt.plot(np.linspace(0,1,num=len(generecall)),generecall,'r-',label='gene')\n",
    "plt.plot(np.linspace(0,1,num=len(diseaserecall)),diseaserecall,'b-',label='disease')\n",
    "plt.legend()\n",
    "plt.ylabel('Recall')\n",
    "plt.show()"
   ]
  },
  {
   "cell_type": "code",
   "execution_count": 186,
   "metadata": {},
   "outputs": [
    {
     "data": {
      "text/html": [
       "<div>\n",
       "<style scoped>\n",
       "    .dataframe tbody tr th:only-of-type {\n",
       "        vertical-align: middle;\n",
       "    }\n",
       "\n",
       "    .dataframe tbody tr th {\n",
       "        vertical-align: top;\n",
       "    }\n",
       "\n",
       "    .dataframe thead th {\n",
       "        text-align: right;\n",
       "    }\n",
       "</style>\n",
       "<table border=\"1\" class=\"dataframe\">\n",
       "  <thead>\n",
       "    <tr style=\"text-align: right;\">\n",
       "      <th></th>\n",
       "      <th>row</th>\n",
       "      <th>n0: Biological Entity</th>\n",
       "      <th>n1: Disease</th>\n",
       "      <th>n2: Phenotypic Feature</th>\n",
       "      <th>n3: Gene</th>\n",
       "      <th>score</th>\n",
       "      <th>gene</th>\n",
       "    </tr>\n",
       "  </thead>\n",
       "  <tbody>\n",
       "    <tr>\n",
       "      <th>0</th>\n",
       "      <td>1</td>\n",
       "      <td>hemiplegia (MONDO:0001170)</td>\n",
       "      <td>amyotrophic lateral sclerosis (MONDO:0004976)</td>\n",
       "      <td>Spasticity (HP:0001257)</td>\n",
       "      <td>SOD1 (NCBIGene:6647)</td>\n",
       "      <td>0.174841</td>\n",
       "      <td>SOD1</td>\n",
       "    </tr>\n",
       "    <tr>\n",
       "      <th>1</th>\n",
       "      <td>3</td>\n",
       "      <td>hemiplegia (MONDO:0001170)</td>\n",
       "      <td>amyotrophic lateral sclerosis (MONDO:0004976)</td>\n",
       "      <td>Neck muscle weakness (HP:0000467)</td>\n",
       "      <td>SOD1 (NCBIGene:6647)</td>\n",
       "      <td>0.145639</td>\n",
       "      <td>SOD1</td>\n",
       "    </tr>\n",
       "    <tr>\n",
       "      <th>2</th>\n",
       "      <td>5</td>\n",
       "      <td>hemiplegia (MONDO:0001170)</td>\n",
       "      <td>amyotrophic lateral sclerosis (MONDO:0004976)</td>\n",
       "      <td>Waddling gait (HP:0002515)</td>\n",
       "      <td>SOD1 (NCBIGene:6647)</td>\n",
       "      <td>0.138170</td>\n",
       "      <td>SOD1</td>\n",
       "    </tr>\n",
       "    <tr>\n",
       "      <th>3</th>\n",
       "      <td>7</td>\n",
       "      <td>hemiplegia (MONDO:0001170)</td>\n",
       "      <td>amyotrophic lateral sclerosis (MONDO:0004976)</td>\n",
       "      <td>Chronic fatigue (HP:0012432)</td>\n",
       "      <td>SOD1 (NCBIGene:6647)</td>\n",
       "      <td>0.126877</td>\n",
       "      <td>SOD1</td>\n",
       "    </tr>\n",
       "    <tr>\n",
       "      <th>4</th>\n",
       "      <td>9</td>\n",
       "      <td>hemiplegia (MONDO:0001170)</td>\n",
       "      <td>amyotrophic lateral sclerosis (MONDO:0004976)</td>\n",
       "      <td>Dyspnea (HP:0002094)</td>\n",
       "      <td>SOD1 (NCBIGene:6647)</td>\n",
       "      <td>0.123824</td>\n",
       "      <td>SOD1</td>\n",
       "    </tr>\n",
       "  </tbody>\n",
       "</table>\n",
       "</div>"
      ],
      "text/plain": [
       "   row       n0: Biological Entity  \\\n",
       "0    1  hemiplegia (MONDO:0001170)   \n",
       "1    3  hemiplegia (MONDO:0001170)   \n",
       "2    5  hemiplegia (MONDO:0001170)   \n",
       "3    7  hemiplegia (MONDO:0001170)   \n",
       "4    9  hemiplegia (MONDO:0001170)   \n",
       "\n",
       "                                     n1: Disease  \\\n",
       "0  amyotrophic lateral sclerosis (MONDO:0004976)   \n",
       "1  amyotrophic lateral sclerosis (MONDO:0004976)   \n",
       "2  amyotrophic lateral sclerosis (MONDO:0004976)   \n",
       "3  amyotrophic lateral sclerosis (MONDO:0004976)   \n",
       "4  amyotrophic lateral sclerosis (MONDO:0004976)   \n",
       "\n",
       "              n2: Phenotypic Feature              n3: Gene     score  gene  \n",
       "0            Spasticity (HP:0001257)  SOD1 (NCBIGene:6647)  0.174841  SOD1  \n",
       "1  Neck muscle weakness (HP:0000467)  SOD1 (NCBIGene:6647)  0.145639  SOD1  \n",
       "2         Waddling gait (HP:0002515)  SOD1 (NCBIGene:6647)  0.138170  SOD1  \n",
       "3       Chronic fatigue (HP:0012432)  SOD1 (NCBIGene:6647)  0.126877  SOD1  \n",
       "4               Dyspnea (HP:0002094)  SOD1 (NCBIGene:6647)  0.123824  SOD1  "
      ]
     },
     "execution_count": 186,
     "metadata": {},
     "output_type": "execute_result"
    }
   ],
   "source": [
    "hf = pd.read_csv('hemiplegia_p0.csv')\n",
    "genes = set(hf['n3: Gene'].values)\n",
    "names = pd.Series({ x:x.split()[0] for x in genes}).reset_index()\n",
    "names.rename({'index':'n3: Gene',0:'gene'},inplace=True,axis=1)\n",
    "hf = pd.merge(hf,names,on='n3: Gene')\n",
    "hf.head()"
   ]
  },
  {
   "cell_type": "code",
   "execution_count": 189,
   "metadata": {},
   "outputs": [
    {
     "data": {
      "text/html": [
       "<div>\n",
       "<style scoped>\n",
       "    .dataframe tbody tr th:only-of-type {\n",
       "        vertical-align: middle;\n",
       "    }\n",
       "\n",
       "    .dataframe tbody tr th {\n",
       "        vertical-align: top;\n",
       "    }\n",
       "\n",
       "    .dataframe thead th {\n",
       "        text-align: right;\n",
       "    }\n",
       "</style>\n",
       "<table border=\"1\" class=\"dataframe\">\n",
       "  <thead>\n",
       "    <tr style=\"text-align: right;\">\n",
       "      <th></th>\n",
       "      <th>gene</th>\n",
       "      <th>score</th>\n",
       "    </tr>\n",
       "  </thead>\n",
       "  <tbody>\n",
       "    <tr>\n",
       "      <th>959</th>\n",
       "      <td>SOD1</td>\n",
       "      <td>0.174841</td>\n",
       "    </tr>\n",
       "    <tr>\n",
       "      <th>359</th>\n",
       "      <td>FUS</td>\n",
       "      <td>0.148309</td>\n",
       "    </tr>\n",
       "    <tr>\n",
       "      <th>876</th>\n",
       "      <td>SCN1A</td>\n",
       "      <td>0.139404</td>\n",
       "    </tr>\n",
       "    <tr>\n",
       "      <th>1004</th>\n",
       "      <td>TARDBP</td>\n",
       "      <td>0.130857</td>\n",
       "    </tr>\n",
       "    <tr>\n",
       "      <th>384</th>\n",
       "      <td>GFAP</td>\n",
       "      <td>0.124225</td>\n",
       "    </tr>\n",
       "  </tbody>\n",
       "</table>\n",
       "</div>"
      ],
      "text/plain": [
       "        gene     score\n",
       "959     SOD1  0.174841\n",
       "359      FUS  0.148309\n",
       "876    SCN1A  0.139404\n",
       "1004  TARDBP  0.130857\n",
       "384     GFAP  0.124225"
      ]
     },
     "execution_count": 189,
     "metadata": {},
     "output_type": "execute_result"
    }
   ],
   "source": [
    "x = pd.DataFrame({'score':hf.groupby('gene').max()['score']}).reset_index()\n",
    "x.sort_values(by='score',ascending=False,inplace=True)\n",
    "x.head()"
   ]
  },
  {
   "cell_type": "code",
   "execution_count": 190,
   "metadata": {},
   "outputs": [],
   "source": [
    "trues = ['AKT3', 'ATP1A2', 'ATP1A3', 'CACNA1A' ,'GK', 'NR0B1','PLG','SCN1A','SIX3','SLC2A1']\n",
    "truedat = pd.DataFrame({'gene':trues, 'hit':1})"
   ]
  },
  {
   "cell_type": "code",
   "execution_count": 196,
   "metadata": {},
   "outputs": [],
   "source": [
    "merged_df = pd.merge(x,truedat,on='gene',how='left')"
   ]
  },
  {
   "cell_type": "code",
   "execution_count": 204,
   "metadata": {},
   "outputs": [],
   "source": [
    "scores = merged_df['score']\n",
    "hits = [1 if x==1.0 else 0 for x in merged_df['hit'] ]"
   ]
  },
  {
   "cell_type": "code",
   "execution_count": 208,
   "metadata": {},
   "outputs": [],
   "source": [
    "cumhits = [ sum(hits[:x]) for x in range(len(hits))]"
   ]
  },
  {
   "cell_type": "code",
   "execution_count": 215,
   "metadata": {},
   "outputs": [
    {
     "data": {
      "image/png": "[encoded data removed]",
      "text/plain": [
       "<Figure size 432x288 with 1 Axes>"
      ]
     },
     "metadata": {
      "needs_background": "light"
     },
     "output_type": "display_data"
    }
   ],
   "source": [
    "plt.plot(range(len(cumhits)),cumhits)\n",
    "plt.plot([0,len(cumhits)],[0,max(cumhits)])\n",
    "plt.xlabel('Gene Count')\n",
    "plt.ylabel('Hit Count')\n",
    "plt.show()"
   ]
  },
  {
   "cell_type": "code",
   "execution_count": null,
   "metadata": {},
   "outputs": [],
   "source": []
  }
 ],
 "metadata": {
  "kernelspec": {
   "display_name": "Python 3",
   "language": "python",
   "name": "python3"
  },
  "language_info": {
   "codemirror_mode": {
    "name": "ipython",
    "version": 3
   },
   "file_extension": ".py",
   "mimetype": "text/x-python",
   "name": "python",
   "nbconvert_exporter": "python",
   "pygments_lexer": "ipython3",
   "version": "3.8.5"
  }
 },
 "nbformat": 4,
 "nbformat_minor": 4
}
